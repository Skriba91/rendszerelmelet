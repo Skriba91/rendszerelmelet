{
 "cells": [
  {
   "cell_type": "code",
   "execution_count": null,
   "id": "1262ae58",
   "metadata": {},
   "outputs": [],
   "source": []
  },
  {
   "cell_type": "code",
   "execution_count": 2,
   "id": "1510a59b",
   "metadata": {},
   "outputs": [],
   "source": [
    "# Importok\n",
    "import numpy as np\n",
    "from numpy import linalg as LA"
   ]
  },
  {
   "cell_type": "markdown",
   "id": "3f768f5e",
   "metadata": {},
   "source": [
    "## 1 Feladat"
   ]
  },
  {
   "cell_type": "markdown",
   "id": "9a645d5e",
   "metadata": {},
   "source": [
    "#### Paraméterek"
   ]
  },
  {
   "cell_type": "code",
   "execution_count": 35,
   "id": "8e38f51d",
   "metadata": {},
   "outputs": [],
   "source": [
    "# Paraméterek megadása\n",
    "a = 2;\n",
    "b = 1;\n",
    "c = 0.25;\n",
    "d = 0.8;\n",
    "e = 0.5;"
   ]
  },
  {
   "cell_type": "markdown",
   "id": "f854fc1e",
   "metadata": {},
   "source": [
    "### Állapotváltozós normál alak"
   ]
  },
  {
   "cell_type": "code",
   "execution_count": 36,
   "id": "6e9cffc3",
   "metadata": {},
   "outputs": [],
   "source": [
    "A = np.array([[0, e],\n",
    "              [c, e]])\n",
    "\n",
    "B = np.array([[1],\n",
    "              [0]])\n",
    "\n",
    "C = np.array([b*c, b*c + b*e + d])\n",
    "\n",
    "D = np.array([a])"
   ]
  },
  {
   "cell_type": "markdown",
   "id": "0b9987fb",
   "metadata": {},
   "source": [
    "### Stabilitás"
   ]
  },
  {
   "cell_type": "code",
   "execution_count": 37,
   "id": "9019d5bb",
   "metadata": {},
   "outputs": [
    {
     "name": "stdout",
     "output_type": "stream",
     "text": [
      "Sajátértékek: [-0.1830127  0.6830127]\n",
      "Aszimptotikusan stabil\n"
     ]
    }
   ],
   "source": [
    "w, v = LA.eig(A)\n",
    "print(f\"Sajátértékek: {w}\")\n",
    "if abs(w[0]) < 1 and abs(w[1]) < 1:\n",
    "    print(\"Aszimptotikusan stabil\")\n",
    "else:\n",
    "    print(\"Aszimptotikusan nem stabil\")"
   ]
  },
  {
   "cell_type": "code",
   "execution_count": 38,
   "id": "79cfa1d6",
   "metadata": {},
   "outputs": [
    {
     "name": "stdout",
     "output_type": "stream",
     "text": [
      "[0.25 1.55]\n"
     ]
    }
   ],
   "source": [
    "print(C)"
   ]
  },
  {
   "cell_type": "markdown",
   "id": "cf1c2620",
   "metadata": {},
   "source": [
    "## 2 Feladat"
   ]
  },
  {
   "cell_type": "markdown",
   "id": "5c0a3ad7",
   "metadata": {},
   "source": [
    "#### Paraméterek"
   ]
  },
  {
   "cell_type": "code",
   "execution_count": 45,
   "id": "d0ccc5bd",
   "metadata": {},
   "outputs": [],
   "source": [
    "# Paraméterek megadása\n",
    "a = -1.5;\n",
    "b = 0.7;\n",
    "c = 0.25;\n",
    "d = 0.15;\n",
    "e = 0.5;"
   ]
  },
  {
   "cell_type": "markdown",
   "id": "51fe083c",
   "metadata": {},
   "source": [
    "### Állapotváltozós normál alak"
   ]
  },
  {
   "cell_type": "code",
   "execution_count": 46,
   "id": "9b710ec0",
   "metadata": {},
   "outputs": [],
   "source": [
    "A = np.array([[b, d],\n",
    "              [1, 0]])\n",
    "\n",
    "B = np.array([[1],\n",
    "              [0]])\n",
    "\n",
    "C = np.array([a*b + c, a*d + e])\n",
    "\n",
    "D = np.array([a])"
   ]
  },
  {
   "cell_type": "markdown",
   "id": "7ef0ff7f",
   "metadata": {},
   "source": [
    "### Stabilitás"
   ]
  },
  {
   "cell_type": "code",
   "execution_count": 47,
   "id": "299b0981",
   "metadata": {},
   "outputs": [
    {
     "name": "stdout",
     "output_type": "stream",
     "text": [
      "Sajátértékek: [ 0.87201533 -0.17201533]\n",
      "Aszimptotikusan stabil\n"
     ]
    }
   ],
   "source": [
    "w, v = LA.eig(A)\n",
    "print(f\"Sajátértékek: {w}\")\n",
    "if abs(w[0]) < 1 and abs(w[1]) < 1:\n",
    "    print(\"Aszimptotikusan stabil\")\n",
    "else:\n",
    "    print(\"Aszimptotikusan nem stabil\")"
   ]
  },
  {
   "cell_type": "markdown",
   "id": "d9992a9f",
   "metadata": {},
   "source": [
    "## 3 Feladat"
   ]
  },
  {
   "cell_type": "markdown",
   "id": "81d4b116",
   "metadata": {},
   "source": [
    "#### Paraméterek"
   ]
  },
  {
   "cell_type": "code",
   "execution_count": 31,
   "id": "49abf807",
   "metadata": {},
   "outputs": [],
   "source": [
    "# Paraméterek megadása\n",
    "a = -2;\n",
    "b = -0.05;\n",
    "c = 1.5;\n",
    "d = -0.6;"
   ]
  },
  {
   "cell_type": "markdown",
   "id": "42b4cc51",
   "metadata": {},
   "source": [
    "### Állapotváltozós normál alak"
   ]
  },
  {
   "cell_type": "code",
   "execution_count": 32,
   "id": "23f02a3f",
   "metadata": {},
   "outputs": [],
   "source": [
    "A = np.array([[0, 1],\n",
    "              [b, d]])\n",
    "\n",
    "B = np.array([[a],\n",
    "              [c]])\n",
    "\n",
    "C = np.array([0, 1])\n",
    "\n",
    "D = np.array([1])"
   ]
  },
  {
   "cell_type": "code",
   "execution_count": 33,
   "id": "430540e5",
   "metadata": {},
   "outputs": [
    {
     "name": "stdout",
     "output_type": "stream",
     "text": [
      "A = [[ 0.    1.  ]\n",
      " [-0.05 -0.6 ]]\n",
      "B = [[-2. ]\n",
      " [ 1.5]]\n",
      "C = [0 1]\n",
      "D = [1]\n"
     ]
    }
   ],
   "source": [
    "# Kiiratás\n",
    "print(f\"A = {A}\")\n",
    "print(f\"B = {B}\")\n",
    "print(f\"C = {C}\")\n",
    "print(f\"D = {D}\")"
   ]
  },
  {
   "cell_type": "markdown",
   "id": "ae6ff465",
   "metadata": {},
   "source": [
    "### Stabilitás"
   ]
  },
  {
   "cell_type": "code",
   "execution_count": 34,
   "id": "18519650",
   "metadata": {},
   "outputs": [
    {
     "name": "stdout",
     "output_type": "stream",
     "text": [
      "Sajátértékek: [-0.1 -0.5]\n",
      "Aszimptotikusan stabil\n"
     ]
    }
   ],
   "source": [
    "w, v = LA.eig(A)\n",
    "print(f\"Sajátértékek: {w}\")\n",
    "if abs(w[0]) < 1 and abs(w[1]) < 1:\n",
    "    print(\"Aszimptotikusan stabil\")\n",
    "else:\n",
    "    print(\"Aszimptotikusan nem stabil\")"
   ]
  },
  {
   "cell_type": "code",
   "execution_count": null,
   "id": "2db8518d",
   "metadata": {},
   "outputs": [],
   "source": []
  }
 ],
 "metadata": {
  "kernelspec": {
   "display_name": "Python 3 (ipykernel)",
   "language": "python",
   "name": "python3"
  },
  "language_info": {
   "codemirror_mode": {
    "name": "ipython",
    "version": 3
   },
   "file_extension": ".py",
   "mimetype": "text/x-python",
   "name": "python",
   "nbconvert_exporter": "python",
   "pygments_lexer": "ipython3",
   "version": "3.8.8"
  }
 },
 "nbformat": 4,
 "nbformat_minor": 5
}
